{
 "cells": [
  {
   "cell_type": "code",
   "execution_count": null,
   "id": "012a8b17",
   "metadata": {},
   "outputs": [],
   "source": [
    "!apt-get update\n",
    "!apt-get install -y libvips\n",
    "!pip install pyvips"
   ]
  },
  {
   "cell_type": "code",
   "execution_count": null,
   "id": "2be86bd9",
   "metadata": {},
   "outputs": [],
   "source": [
    "import os\n",
    "import pyvips\n",
    "import numpy as np\n",
    "import pandas as pd"
   ]
  },
  {
   "cell_type": "code",
   "execution_count": null,
   "id": "initial_id",
   "metadata": {
    "collapsed": true
   },
   "outputs": [],
   "source": [
    "# Function to generate tiles from images based on provided parameters\n",
    "def generate_tiles(image_id, label, image_dir, output_dir, tile_size, threshold_mean, threshold_std):\n",
    "    # Create label-specific output directory\n",
    "    label_output_dir = os.path.join(output_dir, label)\n",
    "    os.makedirs(label_output_dir, exist_ok=True)\n",
    "\n",
    "    # Construct the path for the image using its ID\n",
    "    image_path = os.path.join(image_dir, f\"{image_id}.png\")\n",
    "    \n",
    "    # Check if the image exists\n",
    "    if not os.path.exists(image_path):\n",
    "        print(f\"Image not found: {image_path}\")\n",
    "        return\n",
    "\n",
    "    try:\n",
    "        # Read the input image using pyvips\n",
    "        img = pyvips.Image.new_from_file(image_path)\n",
    "\n",
    "        # Extract image dimensions (height, width)\n",
    "        height = img.height\n",
    "        width = img.width\n",
    "    except Exception as e:\n",
    "        print(f\"Error reading image {image_path}: {e}\")\n",
    "        return\n",
    "\n",
    "    # Calculate the number of rows and columns for tiles\n",
    "    rows_count = height // tile_size\n",
    "    cols_count = width // tile_size\n",
    "\n",
    "    # Iterate through rows and columns to generate tiles\n",
    "    for row_idx in range(rows_count):\n",
    "        for col_idx in range(cols_count):\n",
    "            # Calculate coordinates for each tile\n",
    "            x = col_idx * tile_size\n",
    "            y = row_idx * tile_size\n",
    "\n",
    "            # Extract the tile from the image\n",
    "            tile = img.crop(x, y, tile_size, tile_size)\n",
    "\n",
    "            # Define the name for the tiles\n",
    "            tile_name = f\"{image_id}_tile_{col_idx}_{row_idx}.png\"\n",
    "            \n",
    "            # Convert the tile to a NumPy array for mean and std calculation\n",
    "            tile_np = np.array(tile)\n",
    "\n",
    "            # Check if the tile is not mostly blank based on mean and std thresholds\n",
    "            if tile_np.mean() >= threshold_mean and tile_np.std() >= threshold_std:\n",
    "                # Define the path for the tiles\n",
    "                tile_path = os.path.join(label_output_dir, tile_name)\n",
    "                # Save the tile as a PNG file\n",
    "                tile.write_to_file(tile_path)"
   ]
  },
  {
   "cell_type": "code",
   "execution_count": null,
   "id": "c8b7c832e98cc40e",
   "metadata": {
    "collapsed": false
   },
   "outputs": [],
   "source": [
    "# Define directory paths and CSV file\n",
    "image_dir = \"train_images\"\n",
    "output_dir = \"output_tiles\"\n",
    "csv_file_path = \"train.csv\" # supposed train.csv has 2 columns image_id, label \n",
    "\n",
    "# Read the CSV file containing image IDs and labels\n",
    "data = pd.read_csv(csv_file_path)\n",
    "\n",
    "# Iterate through each row in the CSV file\n",
    "for index, dataset_row in data.iterrows():\n",
    "    # Extract image ID, label, and generate tiles for each entry\n",
    "    generate_tiles(dataset_row['image_id'], dataset_row['label'], image_dir, output_dir, tile_size=512, threshold_mean=170, threshold_std=15)"
   ]
  }
 ],
 "metadata": {
  "kernelspec": {
   "display_name": "Python 3",
   "language": "python",
   "name": "python3"
  },
  "language_info": {
   "codemirror_mode": {
    "name": "ipython",
    "version": 2
   },
   "file_extension": ".py",
   "mimetype": "text/x-python",
   "name": "python",
   "nbconvert_exporter": "python",
   "pygments_lexer": "ipython2",
   "version": "3.10.13"
  }
 },
 "nbformat": 4,
 "nbformat_minor": 5
}
