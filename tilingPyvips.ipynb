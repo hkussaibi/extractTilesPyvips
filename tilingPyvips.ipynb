{
 "cells": [
  {
   "cell_type": "code",
   "execution_count": null,
   "id": "012a8b17",
   "metadata": {},
   "outputs": [],
   "source": [
    "!apt-get update\n",
    "!apt-get install -y libvips\n",
    "!pip install pyvips"
   ]
  },
  {
   "cell_type": "code",
   "execution_count": null,
   "id": "2be86bd9",
   "metadata": {},
   "outputs": [],
   "source": [
    "import os\n",
    "import pyvips\n",
    "import numpy as np\n",
    "import pandas as pd"
   ]
  },
  {
   "cell_type": "code",
   "execution_count": null,
   "id": "initial_id",
   "metadata": {
    "ExecuteTime": {
     "end_time": "2023-11-27T03:24:28.480374300Z",
     "start_time": "2023-11-27T03:24:28.468549700Z"
    },
    "collapsed": true
   },
   "outputs": [],
   "source": [
    "# Function to generate tiles from images based on provided parameters\n",
    "def generate_tiles(image_id, label, image_dir, output_dir, tile_size, threshold_mean, threshold_std):\n",
    "    # Create label-specific output directory\n",
    "    label_output_dir = os.path.join(output_dir, label)\n",
    "    os.makedirs(label_output_dir, exist_ok=True)\n",
    "\n",
    "    # Construct the path for the image using its ID\n",
    "    image_path = os.path.join(image_dir, f\"{image_id}.png\")\n",
    "    \n",
    "    # Check if the image exists\n",
    "    if not os.path.exists(image_path):\n",
    "        print(f\"Image not found: {image_path}\")\n",
    "        return\n",
    "\n",
    "    try:\n",
    "        # Read the input image using pyvips\n",
    "        img = pyvips.Image.new_from_file(image_path)\n",
    "\n",
    "        # Extract image dimensions (height, width)\n",
    "        height = img.height\n",
    "        width = img.width\n",
    "    except Exception as e:\n",
    "        print(f\"Error reading image {image_path}: {e}\")\n",
    "        return\n",
    "\n",
    "    # Calculate the number of rows and columns for tiles\n",
    "    rows_count = height // tile_size\n",
    "    cols_count = width // tile_size\n",
    "\n",
    "    # Iterate through rows and columns to generate tiles\n",
    "    for row_idx in range(rows_count):\n",
    "        for col_idx in range(cols_count):\n",
    "            # Calculate coordinates for each tile\n",
    "            x = col_idx * tile_size\n",
    "            y = row_idx * tile_size\n",
    "\n",
    "            # Extract the tile from the image\n",
    "            tile = img.crop(x, y, tile_size, tile_size)\n",
    "\n",
    "            # Define the name for the tiles\n",
    "            tile_name = f\"{image_id}_tile_{col_idx}_{row_idx}.png\"\n",
    "            \n",
    "            # Convert the tile to a NumPy array for mean and std calculation\n",
    "            tile_np = np.array(tile)\n",
    "\n",
    "            # Check if the tile is not mostly blank based on mean and std thresholds\n",
    "            if tile_np.mean() >= threshold_mean and tile_np.std() >= threshold_std:\n",
    "                # Define the path for the tiles\n",
    "                tile_path = os.path.join(label_output_dir, tile_name)\n",
    "                # Save the tile as a PNG file\n",
    "                tile.write_to_file(tile_path)"
   ]
  },
  {
   "cell_type": "code",
   "execution_count": 4,
   "id": "c8b7c832e98cc40e",
   "metadata": {
    "ExecuteTime": {
     "end_time": "2023-11-27T03:25:28.810670300Z",
     "start_time": "2023-11-27T03:24:31.505115900Z"
    },
    "collapsed": false
   },
   "outputs": [
    {
     "ename": "KeyboardInterrupt",
     "evalue": "",
     "output_type": "error",
     "traceback": [
      "\u001B[1;31m---------------------------------------------------------------------------\u001B[0m",
      "\u001B[1;31mKeyboardInterrupt\u001B[0m                         Traceback (most recent call last)",
      "Cell \u001B[1;32mIn[4], line 4\u001B[0m\n\u001B[0;32m      2\u001B[0m image_path \u001B[38;5;241m=\u001B[39m \u001B[38;5;124mr\u001B[39m\u001B[38;5;124m\"\u001B[39m\u001B[38;5;124mC:\u001B[39m\u001B[38;5;124m\\\u001B[39m\u001B[38;5;124mUsers\u001B[39m\u001B[38;5;124m\\\u001B[39m\u001B[38;5;124mhaith\u001B[39m\u001B[38;5;124m\\\u001B[39m\u001B[38;5;124mwsdl\u001B[39m\u001B[38;5;124m\\\u001B[39m\u001B[38;5;124mds\u001B[39m\u001B[38;5;124m\\\u001B[39m\u001B[38;5;124mwsi\u001B[39m\u001B[38;5;124m\\\u001B[39m\u001B[38;5;124mtestimg\u001B[39m\u001B[38;5;124m\\\u001B[39m\u001B[38;5;124m1020.png\u001B[39m\u001B[38;5;124m\"\u001B[39m\n\u001B[0;32m      3\u001B[0m save_dir \u001B[38;5;241m=\u001B[39m \u001B[38;5;124mr\u001B[39m\u001B[38;5;124m\"\u001B[39m\u001B[38;5;124mC:\u001B[39m\u001B[38;5;124m\\\u001B[39m\u001B[38;5;124mUsers\u001B[39m\u001B[38;5;124m\\\u001B[39m\u001B[38;5;124mhaith\u001B[39m\u001B[38;5;124m\\\u001B[39m\u001B[38;5;124mwsdl\u001B[39m\u001B[38;5;124m\\\u001B[39m\u001B[38;5;124mds\u001B[39m\u001B[38;5;124m\\\u001B[39m\u001B[38;5;124mwsi\u001B[39m\u001B[38;5;124m\\\u001B[39m\u001B[38;5;124mimages_tiles\u001B[39m\u001B[38;5;124m\"\u001B[39m  \u001B[38;5;66;03m# Directory to save the tiles\u001B[39;00m\n\u001B[1;32m----> 4\u001B[0m generate_tiles(image_path, save_dir, tile_size\u001B[38;5;241m=\u001B[39m\u001B[38;5;241m256\u001B[39m)\n",
      "Cell \u001B[1;32mIn[3], line 44\u001B[0m, in \u001B[0;36mgenerate_tiles\u001B[1;34m(image_path, save_dir, tile_size)\u001B[0m\n\u001B[0;32m     41\u001B[0m tile_path \u001B[38;5;241m=\u001B[39m os\u001B[38;5;241m.\u001B[39mpath\u001B[38;5;241m.\u001B[39mjoin(save_dir, tile_name)\n\u001B[0;32m     43\u001B[0m \u001B[38;5;66;03m# Save the tile as a PNG file\u001B[39;00m\n\u001B[1;32m---> 44\u001B[0m tile\u001B[38;5;241m.\u001B[39mwrite_to_file(tile_path)\n",
      "File \u001B[1;32m~\\miniconda3\\envs\\wsdl\\Lib\\site-packages\\pyvips\\vimage.py:804\u001B[0m, in \u001B[0;36mImage.write_to_file\u001B[1;34m(self, vips_filename, **kwargs)\u001B[0m\n\u001B[0;32m    801\u001B[0m     \u001B[38;5;28;01mraise\u001B[39;00m Error(\u001B[38;5;124m'\u001B[39m\u001B[38;5;124munable to write to file \u001B[39m\u001B[38;5;132;01m{0}\u001B[39;00m\u001B[38;5;124m'\u001B[39m\u001B[38;5;241m.\u001B[39mformat(vips_filename))\n\u001B[0;32m    802\u001B[0m name \u001B[38;5;241m=\u001B[39m _to_string(pointer)\n\u001B[1;32m--> 804\u001B[0m \u001B[38;5;28;01mreturn\u001B[39;00m pyvips\u001B[38;5;241m.\u001B[39mOperation\u001B[38;5;241m.\u001B[39mcall(name, \u001B[38;5;28mself\u001B[39m, filename,\n\u001B[0;32m    805\u001B[0m                              string_options\u001B[38;5;241m=\u001B[39moptions, \u001B[38;5;241m*\u001B[39m\u001B[38;5;241m*\u001B[39mkwargs)\n",
      "File \u001B[1;32m~\\miniconda3\\envs\\wsdl\\Lib\\site-packages\\pyvips\\voperation.py:302\u001B[0m, in \u001B[0;36mOperation.call\u001B[1;34m(operation_name, *args, **kwargs)\u001B[0m\n\u001B[0;32m    299\u001B[0m     op\u001B[38;5;241m.\u001B[39mset(name, details[\u001B[38;5;124m'\u001B[39m\u001B[38;5;124mflags\u001B[39m\u001B[38;5;124m'\u001B[39m], match_image, value)\n\u001B[0;32m    301\u001B[0m \u001B[38;5;66;03m# build operation\u001B[39;00m\n\u001B[1;32m--> 302\u001B[0m vop \u001B[38;5;241m=\u001B[39m vips_lib\u001B[38;5;241m.\u001B[39mvips_cache_operation_build(op\u001B[38;5;241m.\u001B[39mpointer)\n\u001B[0;32m    303\u001B[0m \u001B[38;5;28;01mif\u001B[39;00m vop \u001B[38;5;241m==\u001B[39m ffi\u001B[38;5;241m.\u001B[39mNULL:\n\u001B[0;32m    304\u001B[0m     vips_lib\u001B[38;5;241m.\u001B[39mvips_object_unref_outputs(op\u001B[38;5;241m.\u001B[39mvobject)\n",
      "\u001B[1;31mKeyboardInterrupt\u001B[0m: "
     ]
    }
   ],
   "source": [
    "# Define directory paths and CSV file\n",
    "image_dir = \"train_images\"\n",
    "output_dir = \"output_tiles\"\n",
    "csv_file_path = \"train.csv\" # supposed train.csv has 2 columns image_id, label \n",
    "\n",
    "# Read the CSV file containing image IDs and labels\n",
    "data = pd.read_csv(csv_file_path)\n",
    "\n",
    "# Iterate through each row in the CSV file\n",
    "for index, dataset_row in data.iterrows():\n",
    "    # Extract image ID, label, and generate tiles for each entry\n",
    "    generate_tiles(dataset_row['image_id'], dataset_row['label'], image_dir, output_dir, tile_size=512, threshold_mean=170, threshold_std=15)"
   ]
  }
 ],
 "metadata": {
  "kernelspec": {
   "display_name": "Python 3",
   "language": "python",
   "name": "python3"
  },
  "language_info": {
   "codemirror_mode": {
    "name": "ipython",
    "version": 2
   },
   "file_extension": ".py",
   "mimetype": "text/x-python",
   "name": "python",
   "nbconvert_exporter": "python",
   "pygments_lexer": "ipython2",
   "version": "3.10.13"
  }
 },
 "nbformat": 4,
 "nbformat_minor": 5
}
